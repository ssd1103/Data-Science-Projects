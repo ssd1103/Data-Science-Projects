{
 "cells": [
  {
   "cell_type": "markdown",
   "id": "7a7bcb3d",
   "metadata": {},
   "source": [
    "# Profitable App Profiles for the App Store and Google Play Markets\n",
    "\n",
    "* What the project is about\n",
    "* The goal of this project\n",
    "our goal is to determine the kinds of apps that are likely to attract more users because the number of people using our apps affect our revenue.\n",
    "\n",
    "Filter out apps that are NOT free to download and install.\n",
    "Filter out non-English apps."
   ]
  },
  {
   "cell_type": "code",
   "execution_count": 2,
   "id": "8639244c",
   "metadata": {},
   "outputs": [],
   "source": [
    "def explore_data(dataset, start, end, rows_and_columns=False):\n",
    "    dataset_slice = dataset[start:end]\n",
    "    for row in dataset_slice:\n",
    "        print(row) \n",
    "        print('\\n') # adds a new (empty) line after each row\n",
    "        \n",
    "    if rows_and_columns:\n",
    "        print('Number of rows:', len(dataset))\n",
    "        print('Number of columns:', len(dataset[0]))"
   ]
  },
  {
   "cell_type": "markdown",
   "id": "92d0b2b6",
   "metadata": {},
   "source": [
    "---\n",
    "**In the code below I open the two datasets that I'm going to work with:**\n",
    "* AppleStore.csv\n",
    "* googleplaystore.csv\n",
    "---\n",
    "1. I open both datasets with the open() function.\n",
    "2. To read the datasets I use the reader() function from the csv module.\n",
    "3. Then I convert them into lists, so I can work with them.\n"
   ]
  },
  {
   "cell_type": "code",
   "execution_count": 3,
   "id": "95fb3e46",
   "metadata": {},
   "outputs": [],
   "source": [
    "from csv import reader\n",
    "\n",
    "opened_file = open('AppleStore.csv', encoding='utf8')\n",
    "apple_store = list(reader(opened_file))\n",
    "ios_header = apple_store[0]\n",
    "ios = apple_store[1:]\n",
    "\n",
    "opened_file = open('googleplaystore.csv', encoding='utf8')\n",
    "google_store = list(reader(opened_file))\n",
    "android_header = google_store[0]\n",
    "android = google_store[1:]"
   ]
  },
  {
   "cell_type": "markdown",
   "id": "45d30ec3",
   "metadata": {},
   "source": [
    "---\n",
    "**Deleting incorrect data.**\n",
    "\n",
    "Entry number 10472 is missing the 'Rating' and its next columns have shifted."
   ]
  },
  {
   "cell_type": "code",
   "execution_count": 4,
   "id": "dec83408",
   "metadata": {},
   "outputs": [
    {
     "name": "stdout",
     "output_type": "stream",
     "text": [
      "['App', 'Category', 'Rating', 'Reviews', 'Size', 'Installs', 'Type', 'Price', 'Content Rating', 'Genres', 'Last Updated', 'Current Ver', 'Android Ver']\n",
      "\n",
      "\n",
      "['Life Made WI-Fi Touchscreen Photo Frame', '1.9', '19', '3.0M', '1,000+', 'Free', '0', 'Everyone', '', 'February 11, 2018', '1.0.19', '4.0 and up']\n"
     ]
    }
   ],
   "source": [
    "print(android_header)\n",
    "print(\"\\n\")\n",
    "print(android[10472])\n",
    "\n"
   ]
  },
  {
   "cell_type": "markdown",
   "id": "afd1a4e5",
   "metadata": {},
   "source": [
    "---\n",
    "**Deleting entry number 10472.**"
   ]
  },
  {
   "cell_type": "code",
   "execution_count": 5,
   "id": "6cd405fa",
   "metadata": {},
   "outputs": [],
   "source": [
    "del android[10472]"
   ]
  },
  {
   "cell_type": "markdown",
   "id": "83fc2bbc",
   "metadata": {},
   "source": [
    "---\n",
    "**Now I start the data cleaning process. As can be seen below the number of duplicate apps is over 1000.**"
   ]
  },
  {
   "cell_type": "code",
   "execution_count": 6,
   "id": "f7e63e84",
   "metadata": {
    "scrolled": true
   },
   "outputs": [
    {
     "name": "stdout",
     "output_type": "stream",
     "text": [
      "Number of duplicate apps: 1181\n",
      "Examples of duplicate apps: ['Quick PDF Scanner + OCR FREE', 'Box', 'Google My Business', 'ZOOM Cloud Meetings', 'join.me - Simple Meetings', 'Box', 'Zenefits', 'Google Ads', 'Google My Business', 'Slack', 'FreshBooks Classic']\n"
     ]
    }
   ],
   "source": [
    "duplicate_apps = []\n",
    "unique_apps = []\n",
    "\n",
    "for app in android:\n",
    "    name = app[0]\n",
    "    if name not in unique_apps:\n",
    "        unique_apps.append(name)\n",
    "    else:\n",
    "        duplicate_apps.append(name)\n",
    "\n",
    "print(\"Number of duplicate apps:\", len(duplicate_apps))\n",
    "print(\"Examples of duplicate apps:\", duplicate_apps[:11])"
   ]
  },
  {
   "cell_type": "markdown",
   "id": "136d0173",
   "metadata": {},
   "source": [
    "---\n",
    "I am going to remove duplicate entries, but NOT randomly.\n",
    "There are 4 entries for the app 'Instagram', but only one variable changes between these entries, the 'Reviews'.\n",
    "I am going to keep the entry with the highest number of revies because that should be the most recent data."
   ]
  },
  {
   "cell_type": "code",
   "execution_count": 7,
   "id": "df952d89",
   "metadata": {},
   "outputs": [
    {
     "name": "stdout",
     "output_type": "stream",
     "text": [
      "['App', 'Category', 'Rating', 'Reviews', 'Size', 'Installs', 'Type', 'Price', 'Content Rating', 'Genres', 'Last Updated', 'Current Ver', 'Android Ver']\n",
      "\n",
      "\n",
      "['Instagram', 'SOCIAL', '4.5', '66577313', 'Varies with device', '1,000,000,000+', 'Free', '0', 'Teen', 'Social', 'July 31, 2018', 'Varies with device', 'Varies with device']\n",
      "['Instagram', 'SOCIAL', '4.5', '66577446', 'Varies with device', '1,000,000,000+', 'Free', '0', 'Teen', 'Social', 'July 31, 2018', 'Varies with device', 'Varies with device']\n",
      "['Instagram', 'SOCIAL', '4.5', '66577313', 'Varies with device', '1,000,000,000+', 'Free', '0', 'Teen', 'Social', 'July 31, 2018', 'Varies with device', 'Varies with device']\n",
      "['Instagram', 'SOCIAL', '4.5', '66509917', 'Varies with device', '1,000,000,000+', 'Free', '0', 'Teen', 'Social', 'July 31, 2018', 'Varies with device', 'Varies with device']\n"
     ]
    }
   ],
   "source": [
    "print(android_header)\n",
    "print(\"\\n\")\n",
    "for app in android:\n",
    "    name = app[0]\n",
    "    if name == 'Instagram':\n",
    "        print(app)"
   ]
  },
  {
   "cell_type": "markdown",
   "id": "4b9c34b3",
   "metadata": {},
   "source": [
    "---\n",
    "Creating a dictionary where each key is a unique app name and the corresponding dictionary value is the highest number of reviews of that app."
   ]
  },
  {
   "cell_type": "code",
   "execution_count": 8,
   "id": "3aa25e08",
   "metadata": {},
   "outputs": [
    {
     "name": "stdout",
     "output_type": "stream",
     "text": [
      "Number of entries: 9659\n",
      "66577446.0\n"
     ]
    }
   ],
   "source": [
    "reviews_max = {}\n",
    "\n",
    "for app in android:\n",
    "    name = app[0]\n",
    "    n_reviews = float(app[3])\n",
    "    if name in reviews_max and reviews_max[name] < n_reviews:\n",
    "        reviews_max[name] = n_reviews\n",
    "    elif name not in reviews_max:\n",
    "        reviews_max[name] = n_reviews\n",
    "\n",
    "print(\"Number of entries:\", len(reviews_max))\n",
    "print(reviews_max[\"Instagram\"])\n",
    "        "
   ]
  },
  {
   "cell_type": "markdown",
   "id": "26a70aa1",
   "metadata": {},
   "source": [
    "---\n",
    "Using the dictionary I created earlier to remove the duplicate entries.\n",
    "The new and cleaned datasets will be stored in the 'android_clean' list.\n",
    "I don't need to do the same for the App Store data because there are no duplicates."
   ]
  },
  {
   "cell_type": "code",
   "execution_count": 9,
   "id": "4a1c6604",
   "metadata": {},
   "outputs": [],
   "source": [
    "android_clean = []\n",
    "already_added = []\n",
    "\n",
    "for app in android:\n",
    "    name = app[0]\n",
    "    n_reviews = float(app[3])\n",
    "    if n_reviews == reviews_max[name] and name not in already_added:\n",
    "        android_clean.append(app)\n",
    "        already_added.append(name)"
   ]
  },
  {
   "cell_type": "markdown",
   "id": "681ee5ba",
   "metadata": {},
   "source": [
    "---\n",
    "**Identifying Non-English Apps.**\n",
    "\n",
    "Each character we use in a string has a corresponding number associated with it. \n",
    "\n",
    "The numbers corresponding to the characters we commonly use in an English text are all in the range 0 to 127, according to the ASCII (American Standard Code for Information Interchange) system.\n",
    "\n",
    "If the number is equal to or less than 127, then the character belongs to the set of common English characters.\n",
    "\n",
    "If an app name contains a character that is greater than 127, then it probably means that the app has a non-English name.\n",
    "\n",
    "To minimize the impact of data loss, I'll only remove an app if its name has more than three characters with corresponding numbers falling outside the ASCII range. This means all English apps with up to three emoji or other special characters will still be labeled as English.\n",
    "\n",
    "* If the is_english function returns True it's an English app, if it returns False the app is NOT."
   ]
  },
  {
   "cell_type": "code",
   "execution_count": 10,
   "id": "9f0b8457",
   "metadata": {},
   "outputs": [
    {
     "name": "stdout",
     "output_type": "stream",
     "text": [
      "True\n",
      "False\n"
     ]
    }
   ],
   "source": [
    "def is_english(text):\n",
    "    count = 0\n",
    "    for letter in text:\n",
    "        if ord(letter) > 127:\n",
    "            count += 1\n",
    "    if count > 3:\n",
    "        return False\n",
    "    else:\n",
    "        return True\n",
    "    \n",
    "print(is_english('Instagram'))   \n",
    "print(is_english('爱奇艺PPS爱奇'))"
   ]
  },
  {
   "cell_type": "markdown",
   "id": "9c61fbbb",
   "metadata": {},
   "source": [
    "---\n",
    "I am using the new function I created earlier (is_english()) to filter out non-English apps from both datasets, Applestore & googleplaystore."
   ]
  },
  {
   "cell_type": "code",
   "execution_count": 11,
   "id": "028450b3",
   "metadata": {},
   "outputs": [
    {
     "name": "stdout",
     "output_type": "stream",
     "text": [
      "Number of english apps in AppleStore: 6183\n",
      "Number of english apps in Google Play Store: 9614\n"
     ]
    }
   ],
   "source": [
    "ios_english = []\n",
    "android_english = []\n",
    "\n",
    "for app in ios:\n",
    "    name = app[1]\n",
    "    if is_english(name):\n",
    "        ios_english.append(app)\n",
    "\n",
    "for app in android_clean:\n",
    "    name = app[0]\n",
    "    if is_english(name):\n",
    "        android_english.append(app)\n",
    "        \n",
    "print(\"Number of english apps in AppleStore:\", len(ios_english))\n",
    "print(\"Number of english apps in Google Play Store:\", len(android_english))"
   ]
  },
  {
   "cell_type": "code",
   "execution_count": null,
   "id": "2b6fdb33",
   "metadata": {},
   "outputs": [],
   "source": []
  },
  {
   "cell_type": "markdown",
   "id": "ca2780bf",
   "metadata": {},
   "source": [
    "**For the last step of the data cleaning process I will isolate the free apps from both datasets. (free of inaccurate data, free of duplicate entries & free of non-English apps)**"
   ]
  },
  {
   "cell_type": "code",
   "execution_count": 12,
   "id": "ad2a181f",
   "metadata": {},
   "outputs": [
    {
     "name": "stdout",
     "output_type": "stream",
     "text": [
      "Number of free english apps in AppleStore: 3222\n",
      "Number of free english apps in Google Play Store: 8864\n"
     ]
    }
   ],
   "source": [
    "ios_free = []\n",
    "android_free = []\n",
    "\n",
    "for app in ios_english:\n",
    "    price = float(app[4])\n",
    "    if price == 0.0:\n",
    "        ios_free.append(app)\n",
    "        \n",
    "for app in android_english:\n",
    "    if app[7][0] == '$':\n",
    "        price = float(app[7][1:])\n",
    "    else:\n",
    "        price = float(app[7])\n",
    "    if price == 0.0:\n",
    "        android_free.append(app)\n",
    "\n",
    "print(\"Number of free english apps in AppleStore:\", len(ios_free))\n",
    "print(\"Number of free english apps in Google Play Store:\", len(android_free))"
   ]
  },
  {
   "cell_type": "markdown",
   "id": "865a1a4d",
   "metadata": {},
   "source": [
    "## Analysis of the most common genres for each market.\n",
    "For this I will build 2 functions that I can use to analyze the frequency tables:\n",
    "* One function to generate frequency tables that show percentages.\n",
    "* Another function to diplay percentages in a descending order."
   ]
  },
  {
   "cell_type": "code",
   "execution_count": 30,
   "id": "2a812965",
   "metadata": {},
   "outputs": [
    {
     "name": "stdout",
     "output_type": "stream",
     "text": [
      "App genres of free english apps in AppStore:  \n",
      "\n",
      "Games : 58.16 %\n",
      "Entertainment : 7.88 %\n",
      "Photo & Video : 4.97 %\n",
      "Education : 3.66 %\n",
      "Social Networking : 3.29 %\n",
      "Shopping : 2.61 %\n",
      "Utilities : 2.51 %\n",
      "Sports : 2.14 %\n",
      "Music : 2.05 %\n",
      "Health & Fitness : 2.02 %\n",
      "Productivity : 1.74 %\n",
      "Lifestyle : 1.58 %\n",
      "News : 1.33 %\n",
      "Travel : 1.24 %\n",
      "Finance : 1.12 %\n",
      "Weather : 0.87 %\n",
      "Food & Drink : 0.81 %\n",
      "Reference : 0.56 %\n",
      "Business : 0.53 %\n",
      "Book : 0.43 %\n",
      "Navigation : 0.19 %\n",
      "Medical : 0.19 %\n",
      "Catalogs : 0.12 %\n",
      "\n",
      "\n",
      "App categories of free english apps in Google Play Store:  \n",
      "\n",
      "FAMILY : 18.91 %\n",
      "GAME : 9.72 %\n",
      "TOOLS : 8.46 %\n",
      "BUSINESS : 4.59 %\n",
      "LIFESTYLE : 3.9 %\n",
      "PRODUCTIVITY : 3.89 %\n",
      "FINANCE : 3.7 %\n",
      "MEDICAL : 3.53 %\n",
      "SPORTS : 3.4 %\n",
      "PERSONALIZATION : 3.32 %\n",
      "COMMUNICATION : 3.24 %\n",
      "HEALTH_AND_FITNESS : 3.08 %\n",
      "PHOTOGRAPHY : 2.94 %\n",
      "NEWS_AND_MAGAZINES : 2.8 %\n",
      "SOCIAL : 2.66 %\n",
      "TRAVEL_AND_LOCAL : 2.34 %\n",
      "SHOPPING : 2.25 %\n",
      "BOOKS_AND_REFERENCE : 2.14 %\n",
      "DATING : 1.86 %\n",
      "VIDEO_PLAYERS : 1.79 %\n",
      "MAPS_AND_NAVIGATION : 1.4 %\n",
      "FOOD_AND_DRINK : 1.24 %\n",
      "EDUCATION : 1.16 %\n",
      "ENTERTAINMENT : 0.96 %\n",
      "LIBRARIES_AND_DEMO : 0.94 %\n",
      "AUTO_AND_VEHICLES : 0.93 %\n",
      "HOUSE_AND_HOME : 0.82 %\n",
      "WEATHER : 0.8 %\n",
      "EVENTS : 0.71 %\n",
      "PARENTING : 0.65 %\n",
      "ART_AND_DESIGN : 0.64 %\n",
      "COMICS : 0.62 %\n",
      "BEAUTY : 0.6 %\n",
      "\n",
      "\n",
      "App genres of free english apps in Google Play Store:  \n",
      "\n",
      "Tools : 8.45 %\n",
      "Entertainment : 6.07 %\n",
      "Education : 5.35 %\n",
      "Business : 4.59 %\n",
      "Productivity : 3.89 %\n",
      "Lifestyle : 3.89 %\n",
      "Finance : 3.7 %\n",
      "Medical : 3.53 %\n",
      "Sports : 3.46 %\n",
      "Personalization : 3.32 %\n",
      "Communication : 3.24 %\n",
      "Action : 3.1 %\n",
      "Health & Fitness : 3.08 %\n",
      "Photography : 2.94 %\n",
      "News & Magazines : 2.8 %\n",
      "Social : 2.66 %\n",
      "Travel & Local : 2.32 %\n",
      "Shopping : 2.25 %\n",
      "Books & Reference : 2.14 %\n",
      "Simulation : 2.04 %\n",
      "Dating : 1.86 %\n",
      "Arcade : 1.85 %\n",
      "Video Players & Editors : 1.77 %\n",
      "Casual : 1.76 %\n",
      "Maps & Navigation : 1.4 %\n",
      "Food & Drink : 1.24 %\n",
      "Puzzle : 1.13 %\n",
      "Racing : 0.99 %\n",
      "Role Playing : 0.94 %\n",
      "Libraries & Demo : 0.94 %\n",
      "Auto & Vehicles : 0.93 %\n",
      "Strategy : 0.91 %\n",
      "House & Home : 0.82 %\n",
      "Weather : 0.8 %\n",
      "Events : 0.71 %\n",
      "Adventure : 0.68 %\n",
      "Comics : 0.61 %\n",
      "Beauty : 0.6 %\n",
      "Art & Design : 0.6 %\n",
      "Parenting : 0.5 %\n",
      "Card : 0.45 %\n",
      "Casino : 0.43 %\n",
      "Trivia : 0.42 %\n",
      "Educational;Education : 0.39 %\n",
      "Board : 0.38 %\n",
      "Educational : 0.37 %\n",
      "Education;Education : 0.34 %\n",
      "Word : 0.26 %\n",
      "Casual;Pretend Play : 0.24 %\n",
      "Music : 0.2 %\n",
      "Racing;Action & Adventure : 0.17 %\n",
      "Puzzle;Brain Games : 0.17 %\n",
      "Entertainment;Music & Video : 0.17 %\n",
      "Casual;Brain Games : 0.14 %\n",
      "Casual;Action & Adventure : 0.14 %\n",
      "Arcade;Action & Adventure : 0.12 %\n",
      "Action;Action & Adventure : 0.1 %\n",
      "Educational;Pretend Play : 0.09 %\n",
      "Simulation;Action & Adventure : 0.08 %\n",
      "Parenting;Education : 0.08 %\n",
      "Entertainment;Brain Games : 0.08 %\n",
      "Board;Brain Games : 0.08 %\n",
      "Parenting;Music & Video : 0.07 %\n",
      "Educational;Brain Games : 0.07 %\n",
      "Casual;Creativity : 0.07 %\n",
      "Art & Design;Creativity : 0.07 %\n",
      "Education;Pretend Play : 0.06 %\n",
      "Role Playing;Pretend Play : 0.05 %\n",
      "Education;Creativity : 0.05 %\n",
      "Role Playing;Action & Adventure : 0.03 %\n",
      "Puzzle;Action & Adventure : 0.03 %\n",
      "Entertainment;Creativity : 0.03 %\n",
      "Entertainment;Action & Adventure : 0.03 %\n",
      "Educational;Creativity : 0.03 %\n",
      "Educational;Action & Adventure : 0.03 %\n",
      "Education;Music & Video : 0.03 %\n",
      "Education;Brain Games : 0.03 %\n",
      "Education;Action & Adventure : 0.03 %\n",
      "Adventure;Action & Adventure : 0.03 %\n",
      "Video Players & Editors;Music & Video : 0.02 %\n",
      "Sports;Action & Adventure : 0.02 %\n",
      "Simulation;Pretend Play : 0.02 %\n",
      "Puzzle;Creativity : 0.02 %\n",
      "Music;Music & Video : 0.02 %\n",
      "Entertainment;Pretend Play : 0.02 %\n",
      "Casual;Education : 0.02 %\n",
      "Board;Action & Adventure : 0.02 %\n",
      "Video Players & Editors;Creativity : 0.01 %\n",
      "Trivia;Education : 0.01 %\n",
      "Travel & Local;Action & Adventure : 0.01 %\n",
      "Tools;Education : 0.01 %\n",
      "Strategy;Education : 0.01 %\n",
      "Strategy;Creativity : 0.01 %\n",
      "Strategy;Action & Adventure : 0.01 %\n",
      "Simulation;Education : 0.01 %\n",
      "Role Playing;Brain Games : 0.01 %\n",
      "Racing;Pretend Play : 0.01 %\n",
      "Puzzle;Education : 0.01 %\n",
      "Parenting;Brain Games : 0.01 %\n",
      "Music & Audio;Music & Video : 0.01 %\n",
      "Lifestyle;Pretend Play : 0.01 %\n",
      "Lifestyle;Education : 0.01 %\n",
      "Health & Fitness;Education : 0.01 %\n",
      "Health & Fitness;Action & Adventure : 0.01 %\n",
      "Entertainment;Education : 0.01 %\n",
      "Communication;Creativity : 0.01 %\n",
      "Comics;Creativity : 0.01 %\n",
      "Casual;Music & Video : 0.01 %\n",
      "Card;Action & Adventure : 0.01 %\n",
      "Books & Reference;Education : 0.01 %\n",
      "Art & Design;Pretend Play : 0.01 %\n",
      "Art & Design;Action & Adventure : 0.01 %\n",
      "Arcade;Pretend Play : 0.01 %\n",
      "Adventure;Education : 0.01 %\n"
     ]
    }
   ],
   "source": [
    "def freq_table(dataset, index):\n",
    "    old_category = []\n",
    "    category_dic = {}\n",
    "    counter = 0\n",
    "    for x in dataset:\n",
    "        if x[index] not in old_category:\n",
    "            old_category.append(x[index])\n",
    "            category_dic[x[index]] = 1\n",
    "        elif x[index] in old_category:\n",
    "            category_dic[x[index]] += 1\n",
    "        \n",
    "        counter += 1\n",
    "        \n",
    "    for x in category_dic:\n",
    "        category_dic[x] = round((category_dic[x] / counter * 100), 2)\n",
    "    \n",
    "    return category_dic\n",
    "\n",
    "            \n",
    "\n",
    "def display_table(dataset, index):\n",
    "    table = freq_table(dataset, index)\n",
    "    table_display = []\n",
    "    for key in table:\n",
    "        key_val_as_tuple = (table[key], key)\n",
    "        table_display.append(key_val_as_tuple)\n",
    "\n",
    "    table_sorted = sorted(table_display, reverse = True)\n",
    "    for entry in table_sorted:\n",
    "        print(entry[1], ':', entry[0], '%')\n",
    "\n",
    "print('App genres of free english apps in AppStore: ', '\\n')\n",
    "display_table(ios_free, 11)\n",
    "print('\\n')\n",
    "print('App categories of free english apps in Google Play Store: ', '\\n')\n",
    "display_table(android_free, 1)\n",
    "print('\\n')\n",
    "print('App genres of free english apps in Google Play Store: ', '\\n')\n",
    "display_table(android_free, 9)"
   ]
  },
  {
   "cell_type": "markdown",
   "id": "95ef539a",
   "metadata": {},
   "source": [
    "## App profile recommendation for the App Store based on the number of user ratings."
   ]
  },
  {
   "cell_type": "code",
   "execution_count": 38,
   "id": "aba12208",
   "metadata": {},
   "outputs": [
    {
     "name": "stdout",
     "output_type": "stream",
     "text": [
      "Social Networking -- 71548.35\n",
      "Photo & Video -- 28441.54\n",
      "Games -- 22788.67\n",
      "Music -- 57326.53\n",
      "Reference -- 74942.11\n",
      "Health & Fitness -- 23298.02\n",
      "Weather -- 52279.89\n",
      "Utilities -- 18684.46\n",
      "Travel -- 28243.8\n",
      "Shopping -- 26919.69\n",
      "News -- 21248.02\n",
      "Navigation -- 86090.33\n",
      "Lifestyle -- 16485.76\n",
      "Entertainment -- 14029.83\n",
      "Food & Drink -- 33333.92\n",
      "Sports -- 23008.9\n",
      "Book -- 39758.5\n",
      "Finance -- 31467.94\n",
      "Education -- 7003.98\n",
      "Productivity -- 21028.41\n",
      "Business -- 7491.12\n",
      "Catalogs -- 4004.0\n",
      "Medical -- 612.0\n"
     ]
    }
   ],
   "source": [
    "genre_table = freq_table(ios_free, 11)\n",
    "\n",
    "for genre in genre_table:\n",
    "    total  = 0\n",
    "    len_genre = 0\n",
    "   \n",
    "    for x in ios_free:\n",
    "        genre_app = x[11]\n",
    "        if genre_app == genre:\n",
    "            total += int(x[5])\n",
    "            len_genre += 1\n",
    "    \n",
    "    avg_rating = round(total / len_genre, 2)\n",
    "    print(genre, '--', avg_rating)"
   ]
  },
  {
   "cell_type": "markdown",
   "id": "86ec6e9a",
   "metadata": {},
   "source": [
    "## App profile recommendation for the Google Play Store based on the number of installs."
   ]
  },
  {
   "cell_type": "code",
   "execution_count": 47,
   "id": "cc730525",
   "metadata": {},
   "outputs": [
    {
     "name": "stdout",
     "output_type": "stream",
     "text": [
      "ART_AND_DESIGN -- 1986335.09\n",
      "AUTO_AND_VEHICLES -- 647317.82\n",
      "BEAUTY -- 513151.89\n",
      "BOOKS_AND_REFERENCE -- 8767811.89\n",
      "BUSINESS -- 1712290.15\n",
      "COMICS -- 817657.27\n",
      "COMMUNICATION -- 38456119.17\n",
      "DATING -- 854028.83\n",
      "EDUCATION -- 1833495.15\n",
      "ENTERTAINMENT -- 11640705.88\n",
      "EVENTS -- 253542.22\n",
      "FINANCE -- 1387692.48\n",
      "FOOD_AND_DRINK -- 1924897.74\n",
      "HEALTH_AND_FITNESS -- 4188821.99\n",
      "HOUSE_AND_HOME -- 1331540.56\n",
      "LIBRARIES_AND_DEMO -- 638503.73\n",
      "LIFESTYLE -- 1437816.27\n",
      "GAME -- 15588015.6\n",
      "FAMILY -- 3695641.82\n",
      "MEDICAL -- 120550.62\n",
      "SOCIAL -- 23253652.13\n",
      "SHOPPING -- 7036877.31\n",
      "PHOTOGRAPHY -- 17840110.4\n",
      "SPORTS -- 3638640.14\n",
      "TRAVEL_AND_LOCAL -- 13984077.71\n",
      "TOOLS -- 10801391.3\n",
      "PERSONALIZATION -- 5201482.61\n",
      "PRODUCTIVITY -- 16787331.34\n",
      "PARENTING -- 542603.62\n",
      "WEATHER -- 5074486.2\n",
      "VIDEO_PLAYERS -- 24727872.45\n",
      "NEWS_AND_MAGAZINES -- 9549178.47\n",
      "MAPS_AND_NAVIGATION -- 4056941.77\n"
     ]
    }
   ],
   "source": [
    "category_table = freq_table(android_free, 1)\n",
    "\n",
    "for category in category_table:\n",
    "    total = 0\n",
    "    len_category = 0\n",
    "    for x in android_free:\n",
    "        category_app = x[1]\n",
    "        if category_app == category:\n",
    "            installs = x[5]\n",
    "            installs = installs.replace(',', '')\n",
    "            installs = installs.replace('+', '')\n",
    "            total += int(installs)\n",
    "            len_category += 1\n",
    "            \n",
    "    avg_installs = round(total / len_category, 2)\n",
    "    print(category, '--', avg_installs)"
   ]
  }
 ],
 "metadata": {
  "kernelspec": {
   "display_name": "Python 3 (ipykernel)",
   "language": "python",
   "name": "python3"
  },
  "language_info": {
   "codemirror_mode": {
    "name": "ipython",
    "version": 3
   },
   "file_extension": ".py",
   "mimetype": "text/x-python",
   "name": "python",
   "nbconvert_exporter": "python",
   "pygments_lexer": "ipython3",
   "version": "3.11.5"
  }
 },
 "nbformat": 4,
 "nbformat_minor": 5
}
