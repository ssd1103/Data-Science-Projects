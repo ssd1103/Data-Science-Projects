{
 "cells": [
  {
   "cell_type": "markdown",
   "id": "7a7bcb3d",
   "metadata": {},
   "source": [
    "# Profitable App Profiles for the App Store and Google Play Markets\n",
    "\n",
    "* What the project is about\n",
    "* The goal of this project\n",
    "our goal is to determine the kinds of apps that are likely to attract more users because the number of people using our apps affect our revenue.\n",
    "\n",
    "Filter out apps that are NOT free to download and install.\n",
    "Filter out non-English apps."
   ]
  },
  {
   "cell_type": "code",
   "execution_count": 86,
   "id": "8639244c",
   "metadata": {},
   "outputs": [],
   "source": [
    "def explore_data(dataset, start, end, rows_and_columns=False):\n",
    "    dataset_slice = dataset[start:end]\n",
    "    for row in dataset_slice:\n",
    "        print(row) \n",
    "        print('\\n') # adds a new (empty) line after each row\n",
    "        \n",
    "    if rows_and_columns:\n",
    "        print('Number of rows:', len(dataset))\n",
    "        print('Number of columns:', len(dataset[0]))"
   ]
  },
  {
   "cell_type": "markdown",
   "id": "92d0b2b6",
   "metadata": {},
   "source": [
    "---\n",
    "**In the code below I open the two datasets that I'm going to work with:**\n",
    "* AppleStore.csv\n",
    "* googleplaystore.csv\n",
    "---\n",
    "1. I open both datasets with the open() function.\n",
    "2. To read the datasets I use the reader() function from the csv module.\n",
    "3. Then I convert them into lists, so I can work with them.\n"
   ]
  },
  {
   "cell_type": "code",
   "execution_count": 87,
   "id": "95fb3e46",
   "metadata": {},
   "outputs": [],
   "source": [
    "from csv import reader\n",
    "\n",
    "opened_file = open('AppleStore.csv', encoding='utf8')\n",
    "apple_store = list(reader(opened_file))\n",
    "ios_header = apple_store[0]\n",
    "ios = apple_store[1:]\n",
    "\n",
    "opened_file = open('googleplaystore.csv', encoding='utf8')\n",
    "google_store = list(reader(opened_file))\n",
    "android_header = google_store[0]\n",
    "android = google_store[1:]"
   ]
  },
  {
   "cell_type": "markdown",
   "id": "45d30ec3",
   "metadata": {},
   "source": [
    "---\n",
    "**Deleting incorrect data.**\n",
    "\n",
    "Entry number 10472 is missing the 'Rating' and its next columns have shifted."
   ]
  },
  {
   "cell_type": "code",
   "execution_count": 88,
   "id": "dec83408",
   "metadata": {},
   "outputs": [
    {
     "name": "stdout",
     "output_type": "stream",
     "text": [
      "['App', 'Category', 'Rating', 'Reviews', 'Size', 'Installs', 'Type', 'Price', 'Content Rating', 'Genres', 'Last Updated', 'Current Ver', 'Android Ver']\n",
      "\n",
      "\n",
      "['Life Made WI-Fi Touchscreen Photo Frame', '1.9', '19', '3.0M', '1,000+', 'Free', '0', 'Everyone', '', 'February 11, 2018', '1.0.19', '4.0 and up']\n"
     ]
    }
   ],
   "source": [
    "print(android_header)\n",
    "print(\"\\n\")\n",
    "print(android[10472])\n",
    "\n"
   ]
  },
  {
   "cell_type": "markdown",
   "id": "afd1a4e5",
   "metadata": {},
   "source": [
    "---\n",
    "**Deleting entry number 10472.**"
   ]
  },
  {
   "cell_type": "code",
   "execution_count": 89,
   "id": "6cd405fa",
   "metadata": {},
   "outputs": [],
   "source": [
    "del android[10472]"
   ]
  },
  {
   "cell_type": "markdown",
   "id": "83fc2bbc",
   "metadata": {},
   "source": [
    "---\n",
    "**Now I start the data cleaning process. As can be seen below the number of duplicate apps is over 1000.**"
   ]
  },
  {
   "cell_type": "code",
   "execution_count": 90,
   "id": "f7e63e84",
   "metadata": {
    "scrolled": true
   },
   "outputs": [
    {
     "name": "stdout",
     "output_type": "stream",
     "text": [
      "Number of duplicate apps: 1181\n",
      "Examples of duplicate apps: ['Quick PDF Scanner + OCR FREE', 'Box', 'Google My Business', 'ZOOM Cloud Meetings', 'join.me - Simple Meetings', 'Box', 'Zenefits', 'Google Ads', 'Google My Business', 'Slack', 'FreshBooks Classic']\n"
     ]
    }
   ],
   "source": [
    "duplicate_apps = []\n",
    "unique_apps = []\n",
    "\n",
    "for app in android:\n",
    "    name = app[0]\n",
    "    if name not in unique_apps:\n",
    "        unique_apps.append(name)\n",
    "    else:\n",
    "        duplicate_apps.append(name)\n",
    "\n",
    "print(\"Number of duplicate apps:\", len(duplicate_apps))\n",
    "print(\"Examples of duplicate apps:\", duplicate_apps[:11])"
   ]
  },
  {
   "cell_type": "markdown",
   "id": "136d0173",
   "metadata": {},
   "source": [
    "---\n",
    "I am going to remove duplicate entries, but NOT randomly.\n",
    "There are 4 entries for the app 'Instagram', but only one variable changes between these entries, the 'Reviews'.\n",
    "I am going to keep the entry with the highest number of revies because that should be the most recent data."
   ]
  },
  {
   "cell_type": "code",
   "execution_count": 91,
   "id": "df952d89",
   "metadata": {},
   "outputs": [
    {
     "name": "stdout",
     "output_type": "stream",
     "text": [
      "['App', 'Category', 'Rating', 'Reviews', 'Size', 'Installs', 'Type', 'Price', 'Content Rating', 'Genres', 'Last Updated', 'Current Ver', 'Android Ver']\n",
      "\n",
      "\n",
      "['Instagram', 'SOCIAL', '4.5', '66577313', 'Varies with device', '1,000,000,000+', 'Free', '0', 'Teen', 'Social', 'July 31, 2018', 'Varies with device', 'Varies with device']\n",
      "['Instagram', 'SOCIAL', '4.5', '66577446', 'Varies with device', '1,000,000,000+', 'Free', '0', 'Teen', 'Social', 'July 31, 2018', 'Varies with device', 'Varies with device']\n",
      "['Instagram', 'SOCIAL', '4.5', '66577313', 'Varies with device', '1,000,000,000+', 'Free', '0', 'Teen', 'Social', 'July 31, 2018', 'Varies with device', 'Varies with device']\n",
      "['Instagram', 'SOCIAL', '4.5', '66509917', 'Varies with device', '1,000,000,000+', 'Free', '0', 'Teen', 'Social', 'July 31, 2018', 'Varies with device', 'Varies with device']\n"
     ]
    }
   ],
   "source": [
    "print(android_header)\n",
    "print(\"\\n\")\n",
    "for app in android:\n",
    "    name = app[0]\n",
    "    if name == 'Instagram':\n",
    "        print(app)"
   ]
  },
  {
   "cell_type": "markdown",
   "id": "4b9c34b3",
   "metadata": {},
   "source": [
    "---\n",
    "Creating a dictionary where each key is a unique app name and the corresponding dictionary value is the highest number of reviews of that app."
   ]
  },
  {
   "cell_type": "code",
   "execution_count": 93,
   "id": "3aa25e08",
   "metadata": {},
   "outputs": [
    {
     "name": "stdout",
     "output_type": "stream",
     "text": [
      "Number of entries: 9659\n",
      "66577446.0\n"
     ]
    }
   ],
   "source": [
    "reviews_max = {}\n",
    "\n",
    "for app in android:\n",
    "    name = app[0]\n",
    "    n_reviews = float(app[3])\n",
    "    if name in reviews_max and reviews_max[name] < n_reviews:\n",
    "        reviews_max[name] = n_reviews\n",
    "    elif name not in reviews_max:\n",
    "        reviews_max[name] = n_reviews\n",
    "\n",
    "print(\"Number of entries:\", len(reviews_max))\n",
    "print(reviews_max[\"Instagram\"])\n",
    "        "
   ]
  },
  {
   "cell_type": "markdown",
   "id": "26a70aa1",
   "metadata": {},
   "source": [
    "---\n",
    "Using the dictionary I created earlier to remove the duplicate entries.\n",
    "The new and cleaned datasets will be stored in the 'android_clean' list.\n",
    "I don't need to do the same for the App Store data because there are no duplicates."
   ]
  },
  {
   "cell_type": "code",
   "execution_count": 95,
   "id": "4a1c6604",
   "metadata": {},
   "outputs": [],
   "source": [
    "android_clean = []\n",
    "already_added = []\n",
    "\n",
    "for app in android:\n",
    "    name = app[0]\n",
    "    n_reviews = float(app[3])\n",
    "    if n_reviews == reviews_max[name] and name not in already_added:\n",
    "        android_clean.append(app)\n",
    "        already_added.append(name)"
   ]
  },
  {
   "cell_type": "markdown",
   "id": "681ee5ba",
   "metadata": {},
   "source": [
    "---\n",
    "**Identifying Non-English Apps.**\n",
    "\n",
    "Each character we use in a string has a corresponding number associated with it. \n",
    "\n",
    "The numbers corresponding to the characters we commonly use in an English text are all in the range 0 to 127, according to the ASCII (American Standard Code for Information Interchange) system.\n",
    "\n",
    "If the number is equal to or less than 127, then the character belongs to the set of common English characters.\n",
    "\n",
    "If an app name contains a character that is greater than 127, then it probably means that the app has a non-English name.\n",
    "\n",
    "To minimize the impact of data loss, I'll only remove an app if its name has more than three characters with corresponding numbers falling outside the ASCII range. This means all English apps with up to three emoji or other special characters will still be labeled as English.\n",
    "\n",
    "* If the is_english function returns True it's an English app, if it returns False the app is NOT."
   ]
  },
  {
   "cell_type": "code",
   "execution_count": 106,
   "id": "9f0b8457",
   "metadata": {},
   "outputs": [
    {
     "name": "stdout",
     "output_type": "stream",
     "text": [
      "True\n",
      "False\n"
     ]
    }
   ],
   "source": [
    "def is_english(text):\n",
    "    count = 0\n",
    "    for letter in text:\n",
    "        if ord(letter) > 127:\n",
    "            count += 1\n",
    "    if count > 3:\n",
    "        return False\n",
    "    else:\n",
    "        return True\n",
    "    \n",
    "print(is_english('Instagram'))   \n",
    "print(is_english('爱奇艺PPS爱奇'))"
   ]
  },
  {
   "cell_type": "markdown",
   "id": "9c61fbbb",
   "metadata": {},
   "source": [
    "---\n",
    "I am using the new function I created earlier (is_english()) to filter out non-English apps from both datasets, Applestore & googleplaystore."
   ]
  },
  {
   "cell_type": "code",
   "execution_count": 118,
   "id": "028450b3",
   "metadata": {},
   "outputs": [
    {
     "name": "stdout",
     "output_type": "stream",
     "text": [
      "Number of english apps in AppleStore: 6183\n",
      "Number of english apps in Google Play Store: 9614\n"
     ]
    }
   ],
   "source": [
    "ios_english = []\n",
    "android_english = []\n",
    "\n",
    "for app in ios:\n",
    "    name = app[1]\n",
    "    if is_english(name):\n",
    "        ios_english.append(app)\n",
    "\n",
    "for app in android_clean:\n",
    "    name = app[0]\n",
    "    if is_english(name):\n",
    "        android_english.append(app)\n",
    "        \n",
    "print(\"Number of english apps in AppleStore:\", len(ios_english))\n",
    "print(\"Number of english apps in Google Play Store:\", len(android_english))"
   ]
  },
  {
   "cell_type": "code",
   "execution_count": null,
   "id": "2b6fdb33",
   "metadata": {},
   "outputs": [],
   "source": []
  },
  {
   "cell_type": "markdown",
   "id": "ca2780bf",
   "metadata": {},
   "source": [
    "**For the last step of the data cleaning process I will isolate the free apps from both datasets. (free of inaccurate data, free of duplicate entries & free of non-English apps)**"
   ]
  },
  {
   "cell_type": "code",
   "execution_count": 119,
   "id": "ad2a181f",
   "metadata": {},
   "outputs": [
    {
     "name": "stdout",
     "output_type": "stream",
     "text": [
      "Number of free english apps in AppleStore: 3222\n",
      "Number of free english apps in Google Play Store: 8864\n"
     ]
    }
   ],
   "source": [
    "ios_free = []\n",
    "android_free = []\n",
    "\n",
    "for app in ios_english:\n",
    "    price = float(app[4])\n",
    "    if price == 0.0:\n",
    "        ios_free.append(app)\n",
    "        \n",
    "for app in android_english:\n",
    "    if app[7][0] == '$':\n",
    "        price = float(app[7][1:])\n",
    "    else:\n",
    "        price = float(app[7])\n",
    "    if price == 0.0:\n",
    "        android_free.append(app)\n",
    "\n",
    "print(\"Number of free english apps in AppleStore:\", len(ios_free))\n",
    "print(\"Number of free english apps in Google Play Store:\", len(android_free))"
   ]
  },
  {
   "cell_type": "code",
   "execution_count": null,
   "id": "3140efd6",
   "metadata": {},
   "outputs": [],
   "source": []
  },
  {
   "cell_type": "code",
   "execution_count": null,
   "id": "2a812965",
   "metadata": {},
   "outputs": [],
   "source": [
    "def freq_table(dataset, index):\n",
    "    "
   ]
  }
 ],
 "metadata": {
  "kernelspec": {
   "display_name": "Python 3 (ipykernel)",
   "language": "python",
   "name": "python3"
  },
  "language_info": {
   "codemirror_mode": {
    "name": "ipython",
    "version": 3
   },
   "file_extension": ".py",
   "mimetype": "text/x-python",
   "name": "python",
   "nbconvert_exporter": "python",
   "pygments_lexer": "ipython3",
   "version": "3.11.5"
  }
 },
 "nbformat": 4,
 "nbformat_minor": 5
}
